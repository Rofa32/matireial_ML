{
 "cells": [
  {
   "cell_type": "code",
   "execution_count": 1,
   "id": "d7d98bde",
   "metadata": {},
   "outputs": [],
   "source": [
    "import pandas as pd\n",
    "from sklearn.model_selection import train_test_split\n",
    "from sklearn.naive_bayes import GaussianNB\n",
    "from sklearn.metrics import accuracy_score"
   ]
  },
  {
   "cell_type": "code",
   "execution_count": 4,
   "id": "71a2e071",
   "metadata": {},
   "outputs": [],
   "source": [
    "# Step 1: Load the golf dataset\n",
    "data = pd.read_csv(\"golf.csv\")  # Replace \"golf_dataset.csv\" with your dataset file"
   ]
  },
  {
   "cell_type": "code",
   "execution_count": 5,
   "id": "1d05952e",
   "metadata": {},
   "outputs": [],
   "source": [
    "# Step 2: Split the dataset into features (X) and labels (y)\n",
    "X = data.drop('Play Golf', axis=1)\n",
    "y = data['Play Golf']"
   ]
  },
  {
   "cell_type": "code",
   "execution_count": 6,
   "id": "2d0d1884",
   "metadata": {},
   "outputs": [],
   "source": [
    "# Step 3: Convert categorical variables into a numerical representation\n",
    "X = pd.get_dummies(X)"
   ]
  },
  {
   "cell_type": "code",
   "execution_count": 7,
   "id": "43901ca7",
   "metadata": {},
   "outputs": [],
   "source": [
    "# Step 4: Split the data into training and testing sets\n",
    "X_train, X_test, y_train, y_test = train_test_split(X, y, test_size=0.2, random_state=42)"
   ]
  },
  {
   "cell_type": "code",
   "execution_count": 8,
   "id": "e4178b94",
   "metadata": {},
   "outputs": [],
   "source": [
    "# Step 5: Create a Naive Bayes classifier\n",
    "classifier = GaussianNB()"
   ]
  },
  {
   "cell_type": "code",
   "execution_count": 9,
   "id": "7edf6141",
   "metadata": {},
   "outputs": [
    {
     "data": {
      "text/html": [
       "<style>#sk-container-id-1 {color: black;background-color: white;}#sk-container-id-1 pre{padding: 0;}#sk-container-id-1 div.sk-toggleable {background-color: white;}#sk-container-id-1 label.sk-toggleable__label {cursor: pointer;display: block;width: 100%;margin-bottom: 0;padding: 0.3em;box-sizing: border-box;text-align: center;}#sk-container-id-1 label.sk-toggleable__label-arrow:before {content: \"▸\";float: left;margin-right: 0.25em;color: #696969;}#sk-container-id-1 label.sk-toggleable__label-arrow:hover:before {color: black;}#sk-container-id-1 div.sk-estimator:hover label.sk-toggleable__label-arrow:before {color: black;}#sk-container-id-1 div.sk-toggleable__content {max-height: 0;max-width: 0;overflow: hidden;text-align: left;background-color: #f0f8ff;}#sk-container-id-1 div.sk-toggleable__content pre {margin: 0.2em;color: black;border-radius: 0.25em;background-color: #f0f8ff;}#sk-container-id-1 input.sk-toggleable__control:checked~div.sk-toggleable__content {max-height: 200px;max-width: 100%;overflow: auto;}#sk-container-id-1 input.sk-toggleable__control:checked~label.sk-toggleable__label-arrow:before {content: \"▾\";}#sk-container-id-1 div.sk-estimator input.sk-toggleable__control:checked~label.sk-toggleable__label {background-color: #d4ebff;}#sk-container-id-1 div.sk-label input.sk-toggleable__control:checked~label.sk-toggleable__label {background-color: #d4ebff;}#sk-container-id-1 input.sk-hidden--visually {border: 0;clip: rect(1px 1px 1px 1px);clip: rect(1px, 1px, 1px, 1px);height: 1px;margin: -1px;overflow: hidden;padding: 0;position: absolute;width: 1px;}#sk-container-id-1 div.sk-estimator {font-family: monospace;background-color: #f0f8ff;border: 1px dotted black;border-radius: 0.25em;box-sizing: border-box;margin-bottom: 0.5em;}#sk-container-id-1 div.sk-estimator:hover {background-color: #d4ebff;}#sk-container-id-1 div.sk-parallel-item::after {content: \"\";width: 100%;border-bottom: 1px solid gray;flex-grow: 1;}#sk-container-id-1 div.sk-label:hover label.sk-toggleable__label {background-color: #d4ebff;}#sk-container-id-1 div.sk-serial::before {content: \"\";position: absolute;border-left: 1px solid gray;box-sizing: border-box;top: 0;bottom: 0;left: 50%;z-index: 0;}#sk-container-id-1 div.sk-serial {display: flex;flex-direction: column;align-items: center;background-color: white;padding-right: 0.2em;padding-left: 0.2em;position: relative;}#sk-container-id-1 div.sk-item {position: relative;z-index: 1;}#sk-container-id-1 div.sk-parallel {display: flex;align-items: stretch;justify-content: center;background-color: white;position: relative;}#sk-container-id-1 div.sk-item::before, #sk-container-id-1 div.sk-parallel-item::before {content: \"\";position: absolute;border-left: 1px solid gray;box-sizing: border-box;top: 0;bottom: 0;left: 50%;z-index: -1;}#sk-container-id-1 div.sk-parallel-item {display: flex;flex-direction: column;z-index: 1;position: relative;background-color: white;}#sk-container-id-1 div.sk-parallel-item:first-child::after {align-self: flex-end;width: 50%;}#sk-container-id-1 div.sk-parallel-item:last-child::after {align-self: flex-start;width: 50%;}#sk-container-id-1 div.sk-parallel-item:only-child::after {width: 0;}#sk-container-id-1 div.sk-dashed-wrapped {border: 1px dashed gray;margin: 0 0.4em 0.5em 0.4em;box-sizing: border-box;padding-bottom: 0.4em;background-color: white;}#sk-container-id-1 div.sk-label label {font-family: monospace;font-weight: bold;display: inline-block;line-height: 1.2em;}#sk-container-id-1 div.sk-label-container {text-align: center;}#sk-container-id-1 div.sk-container {/* jupyter's `normalize.less` sets `[hidden] { display: none; }` but bootstrap.min.css set `[hidden] { display: none !important; }` so we also need the `!important` here to be able to override the default hidden behavior on the sphinx rendered scikit-learn.org. See: https://github.com/scikit-learn/scikit-learn/issues/21755 */display: inline-block !important;position: relative;}#sk-container-id-1 div.sk-text-repr-fallback {display: none;}</style><div id=\"sk-container-id-1\" class=\"sk-top-container\"><div class=\"sk-text-repr-fallback\"><pre>GaussianNB()</pre><b>In a Jupyter environment, please rerun this cell to show the HTML representation or trust the notebook. <br />On GitHub, the HTML representation is unable to render, please try loading this page with nbviewer.org.</b></div><div class=\"sk-container\" hidden><div class=\"sk-item\"><div class=\"sk-estimator sk-toggleable\"><input class=\"sk-toggleable__control sk-hidden--visually\" id=\"sk-estimator-id-1\" type=\"checkbox\" checked><label for=\"sk-estimator-id-1\" class=\"sk-toggleable__label sk-toggleable__label-arrow\">GaussianNB</label><div class=\"sk-toggleable__content\"><pre>GaussianNB()</pre></div></div></div></div></div>"
      ],
      "text/plain": [
       "GaussianNB()"
      ]
     },
     "execution_count": 9,
     "metadata": {},
     "output_type": "execute_result"
    }
   ],
   "source": [
    "# Step 6: Train the classifier\n",
    "classifier.fit(X_train, y_train)"
   ]
  },
  {
   "cell_type": "code",
   "execution_count": 10,
   "id": "c9f3ccec",
   "metadata": {},
   "outputs": [],
   "source": [
    "# Step 7: Make predictions on the test set\n",
    "y_pred = classifier.predict(X_test)"
   ]
  },
  {
   "cell_type": "code",
   "execution_count": 11,
   "id": "357d956b",
   "metadata": {},
   "outputs": [
    {
     "name": "stdout",
     "output_type": "stream",
     "text": [
      "Accuracy: 0.6666666666666666\n"
     ]
    }
   ],
   "source": [
    "# Step 8: Calculate the accuracy of the classifier\n",
    "accuracy = accuracy_score(y_test, y_pred)\n",
    "print(\"Accuracy:\", accuracy)"
   ]
  },
  {
   "cell_type": "code",
   "execution_count": 12,
   "id": "b3d7de4b",
   "metadata": {},
   "outputs": [
    {
     "name": "stdout",
     "output_type": "stream",
     "text": [
      "Class: No\n",
      "Feature: Windy, Mean: 0.75\n",
      "Feature: Outlook_Overcast, Mean: 0.0\n",
      "Feature: Outlook_Rainy, Mean: 0.5\n",
      "Feature: Outlook_Sunny, Mean: 0.5\n",
      "Feature: Temp_Cool, Mean: 0.25\n",
      "Feature: Temp_Hot, Mean: 0.25\n",
      "Feature: Temp_Mild, Mean: 0.5\n",
      "Feature: Humidity_High, Mean: 0.75\n",
      "Feature: Humidity_Normal, Mean: 0.25\n",
      "\n",
      "\n",
      "Class: Yes\n",
      "Feature: Windy, Mean: 0.2857142857142857\n",
      "Feature: Outlook_Overcast, Mean: 0.42857142857142855\n",
      "Feature: Outlook_Rainy, Mean: 0.2857142857142857\n",
      "Feature: Outlook_Sunny, Mean: 0.2857142857142857\n",
      "Feature: Temp_Cool, Mean: 0.42857142857142855\n",
      "Feature: Temp_Hot, Mean: 0.2857142857142857\n",
      "Feature: Temp_Mild, Mean: 0.2857142857142857\n",
      "Feature: Humidity_High, Mean: 0.2857142857142857\n",
      "Feature: Humidity_Normal, Mean: 0.7142857142857143\n",
      "\n",
      "\n"
     ]
    }
   ],
   "source": [
    "# Step 9: Calculate conditional probabilities\n",
    "classes = classifier.classes_\n",
    "\n",
    "# Display conditional probabilities for each feature and class\n",
    "for i, class_ in enumerate(classes):\n",
    "    print(f\"Class: {class_}\")\n",
    "    means = classifier.theta_[i]  # Means for the current class\n",
    "    for feature, mean in zip(X.columns, means):\n",
    "        print(f\"Feature: {feature}, Mean: {mean}\")\n",
    "    print(\"\\n\")"
   ]
  },
  {
   "cell_type": "code",
   "execution_count": 14,
   "id": "6a9a04ef",
   "metadata": {},
   "outputs": [
    {
     "name": "stdout",
     "output_type": "stream",
     "text": [
      "Conditional probabilities for feature: Windy\n",
      "P(Windy:No)~N(0.75,)\n",
      "P(Windy:Yes)~N(0.2857142857142857,)\n",
      "Conditional probabilities for feature: Outlook_Overcast\n",
      "P(Outlook_Overcast:No)~N(0.0,)\n",
      "P(Outlook_Overcast:Yes)~N(0.42857142857142855,)\n",
      "Conditional probabilities for feature: Outlook_Rainy\n",
      "P(Outlook_Rainy:No)~N(0.5,)\n",
      "P(Outlook_Rainy:Yes)~N(0.2857142857142857,)\n",
      "Conditional probabilities for feature: Outlook_Sunny\n",
      "P(Outlook_Sunny:No)~N(0.5,)\n",
      "P(Outlook_Sunny:Yes)~N(0.2857142857142857,)\n",
      "Conditional probabilities for feature: Temp_Cool\n",
      "P(Temp_Cool:No)~N(0.25,)\n",
      "P(Temp_Cool:Yes)~N(0.42857142857142855,)\n",
      "Conditional probabilities for feature: Temp_Hot\n",
      "P(Temp_Hot:No)~N(0.25,)\n",
      "P(Temp_Hot:Yes)~N(0.2857142857142857,)\n",
      "Conditional probabilities for feature: Temp_Mild\n",
      "P(Temp_Mild:No)~N(0.5,)\n",
      "P(Temp_Mild:Yes)~N(0.2857142857142857,)\n",
      "Conditional probabilities for feature: Humidity_High\n",
      "P(Humidity_High:No)~N(0.75,)\n",
      "P(Humidity_High:Yes)~N(0.2857142857142857,)\n",
      "Conditional probabilities for feature: Humidity_Normal\n",
      "P(Humidity_Normal:No)~N(0.25,)\n",
      "P(Humidity_Normal:Yes)~N(0.7142857142857143,)\n",
      "____\n"
     ]
    }
   ],
   "source": [
    "# Calculate Conditional Probabilities\n",
    "for i,feature_name in enumerate(X.columns):\n",
    "    print('Conditional probabilities for feature:', feature_name)\n",
    "    for j, class_name in enumerate(classifier.classes_):\n",
    "         mean = classifier.theta_[j, i]     \n",
    "         print('P({}:{})~N({},)'.format(feature_name, class_name, mean))\n",
    "print(\"____\")"
   ]
  },
  {
   "cell_type": "code",
   "execution_count": null,
   "id": "454afbce",
   "metadata": {},
   "outputs": [],
   "source": []
  }
 ],
 "metadata": {
  "kernelspec": {
   "display_name": "Python 3 (ipykernel)",
   "language": "python",
   "name": "python3"
  },
  "language_info": {
   "codemirror_mode": {
    "name": "ipython",
    "version": 3
   },
   "file_extension": ".py",
   "mimetype": "text/x-python",
   "name": "python",
   "nbconvert_exporter": "python",
   "pygments_lexer": "ipython3",
   "version": "3.10.9"
  }
 },
 "nbformat": 4,
 "nbformat_minor": 5
}
