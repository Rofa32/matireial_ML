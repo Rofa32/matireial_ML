{
 "cells": [
  {
   "cell_type": "code",
   "execution_count": 1,
   "id": "1efbcde9",
   "metadata": {},
   "outputs": [],
   "source": [
    "from sklearn.datasets import load_iris\n",
    "from sklearn.model_selection import train_test_split, cross_val_score\n",
    "from sklearn.preprocessing import StandardScaler\n",
    "from sklearn.neighbors import KNeighborsClassifier\n",
    "from sklearn.linear_model import LogisticRegression"
   ]
  },
  {
   "cell_type": "code",
   "execution_count": 3,
   "id": "3a7f35a3",
   "metadata": {},
   "outputs": [],
   "source": [
    "iris = load_iris()\n",
    "X = iris.data\n",
    "y = iris.target\n",
    "\n",
    "scaler = StandardScaler()\n",
    "X_scaled = scaler.fit_transform(X)"
   ]
  },
  {
   "cell_type": "code",
   "execution_count": 4,
   "id": "68b77789",
   "metadata": {},
   "outputs": [],
   "source": [
    "X_train, X_test, y_train, y_test = train_test_split(X_scaled, y, test_size=0.2, random_state=42)"
   ]
  },
  {
   "cell_type": "code",
   "execution_count": 11,
   "id": "0faf3a04",
   "metadata": {},
   "outputs": [],
   "source": [
    "knn = KNeighborsClassifier(n_neighbors =5)\n",
    "logreg = LogisticRegression(solver='liblinear',multi_class='auto')"
   ]
  },
  {
   "cell_type": "code",
   "execution_count": 12,
   "id": "9320c063",
   "metadata": {},
   "outputs": [
    {
     "name": "stdout",
     "output_type": "stream",
     "text": [
      "KNN Cross Validation Score = [0.95833333 0.95833333 0.83333333 1.         0.91666667]\n",
      "logreg Scores Validation Score= [0.79166667 0.95833333 0.79166667 1.         0.875     ]\n"
     ]
    }
   ],
   "source": [
    "knn_scores = cross_val_score(knn, X_train, y_train, cv=5)\n",
    "logreg_scores = cross_val_score(logreg, X_train, y_train, cv=5)\n",
    "print(\"KNN Cross Validation Score =\", knn_scores)\n",
    "print(\"logreg Scores Validation Score=\", logreg_scores)"
   ]
  },
  {
   "cell_type": "code",
   "execution_count": 7,
   "id": "9ddcaa76",
   "metadata": {},
   "outputs": [
    {
     "name": "stdout",
     "output_type": "stream",
     "text": [
      "KNN Mean Cross-Validation Score: 0.9333333333333333\n",
      "Logistic Regression Mean Cross-Validation Score: 0.8833333333333332\n"
     ]
    }
   ],
   "source": [
    "knn_mean_score = knn_scores.mean()\n",
    "logreg_mean_score = logreg_scores.mean()\n",
    "print(\"KNN Mean Cross-Validation Score:\", knn_mean_score)\n",
    "print(\"Logistic Regression Mean Cross-Validation Score:\", logreg_mean_score)"
   ]
  },
  {
   "cell_type": "code",
   "execution_count": 8,
   "id": "1237e6d7",
   "metadata": {},
   "outputs": [
    {
     "name": "stdout",
     "output_type": "stream",
     "text": [
      "KNN is the better-performing model.\n"
     ]
    }
   ],
   "source": [
    "if knn_mean_score > logreg_mean_score:\n",
    "    print(\"KNN is the better-performing model.\")\n",
    "else:\n",
    "    print(\"Logistic Regression is the better-performing model.\")"
   ]
  },
  {
   "cell_type": "code",
   "execution_count": null,
   "id": "c1fef1ff",
   "metadata": {},
   "outputs": [],
   "source": []
  }
 ],
 "metadata": {
  "kernelspec": {
   "display_name": "Python 3 (ipykernel)",
   "language": "python",
   "name": "python3"
  },
  "language_info": {
   "codemirror_mode": {
    "name": "ipython",
    "version": 3
   },
   "file_extension": ".py",
   "mimetype": "text/x-python",
   "name": "python",
   "nbconvert_exporter": "python",
   "pygments_lexer": "ipython3",
   "version": "3.10.9"
  }
 },
 "nbformat": 4,
 "nbformat_minor": 5
}
